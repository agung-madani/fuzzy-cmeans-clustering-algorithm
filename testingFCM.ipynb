{
 "cells": [
  {
   "cell_type": "markdown",
   "metadata": {},
   "source": [
    "## Testing Fuzzy C-Means Clustering"
   ]
  },
  {
   "cell_type": "markdown",
   "metadata": {},
   "source": [
    "#### Import Library"
   ]
  },
  {
   "cell_type": "code",
   "execution_count": 1,
   "metadata": {},
   "outputs": [],
   "source": [
    "import pandas as pd"
   ]
  },
  {
   "cell_type": "markdown",
   "metadata": {},
   "source": [
    "#### Convert csv file to dataframe\n",
    "Datasets taken from https://www.kaggle.com/datasets/rakeshrau/social-network-ads"
   ]
  },
  {
   "cell_type": "code",
   "execution_count": 2,
   "metadata": {
    "scrolled": true
   },
   "outputs": [
    {
     "data": {
      "text/html": [
       "<div>\n",
       "<style scoped>\n",
       "    .dataframe tbody tr th:only-of-type {\n",
       "        vertical-align: middle;\n",
       "    }\n",
       "\n",
       "    .dataframe tbody tr th {\n",
       "        vertical-align: top;\n",
       "    }\n",
       "\n",
       "    .dataframe thead th {\n",
       "        text-align: right;\n",
       "    }\n",
       "</style>\n",
       "<table border=\"1\" class=\"dataframe\">\n",
       "  <thead>\n",
       "    <tr style=\"text-align: right;\">\n",
       "      <th></th>\n",
       "      <th>User ID</th>\n",
       "      <th>Gender</th>\n",
       "      <th>Age</th>\n",
       "      <th>EstimatedSalary</th>\n",
       "      <th>Purchased</th>\n",
       "    </tr>\n",
       "  </thead>\n",
       "  <tbody>\n",
       "    <tr>\n",
       "      <th>0</th>\n",
       "      <td>15624510</td>\n",
       "      <td>Male</td>\n",
       "      <td>19</td>\n",
       "      <td>19000</td>\n",
       "      <td>0</td>\n",
       "    </tr>\n",
       "    <tr>\n",
       "      <th>1</th>\n",
       "      <td>15810944</td>\n",
       "      <td>Male</td>\n",
       "      <td>35</td>\n",
       "      <td>20000</td>\n",
       "      <td>0</td>\n",
       "    </tr>\n",
       "    <tr>\n",
       "      <th>2</th>\n",
       "      <td>15668575</td>\n",
       "      <td>Female</td>\n",
       "      <td>26</td>\n",
       "      <td>43000</td>\n",
       "      <td>0</td>\n",
       "    </tr>\n",
       "    <tr>\n",
       "      <th>3</th>\n",
       "      <td>15603246</td>\n",
       "      <td>Female</td>\n",
       "      <td>27</td>\n",
       "      <td>57000</td>\n",
       "      <td>0</td>\n",
       "    </tr>\n",
       "    <tr>\n",
       "      <th>4</th>\n",
       "      <td>15804002</td>\n",
       "      <td>Male</td>\n",
       "      <td>19</td>\n",
       "      <td>76000</td>\n",
       "      <td>0</td>\n",
       "    </tr>\n",
       "    <tr>\n",
       "      <th>5</th>\n",
       "      <td>15728773</td>\n",
       "      <td>Male</td>\n",
       "      <td>27</td>\n",
       "      <td>58000</td>\n",
       "      <td>0</td>\n",
       "    </tr>\n",
       "    <tr>\n",
       "      <th>6</th>\n",
       "      <td>15598044</td>\n",
       "      <td>Female</td>\n",
       "      <td>27</td>\n",
       "      <td>84000</td>\n",
       "      <td>0</td>\n",
       "    </tr>\n",
       "    <tr>\n",
       "      <th>7</th>\n",
       "      <td>15694829</td>\n",
       "      <td>Female</td>\n",
       "      <td>32</td>\n",
       "      <td>150000</td>\n",
       "      <td>1</td>\n",
       "    </tr>\n",
       "    <tr>\n",
       "      <th>8</th>\n",
       "      <td>15600575</td>\n",
       "      <td>Male</td>\n",
       "      <td>25</td>\n",
       "      <td>33000</td>\n",
       "      <td>0</td>\n",
       "    </tr>\n",
       "    <tr>\n",
       "      <th>9</th>\n",
       "      <td>15727311</td>\n",
       "      <td>Female</td>\n",
       "      <td>35</td>\n",
       "      <td>65000</td>\n",
       "      <td>0</td>\n",
       "    </tr>\n",
       "  </tbody>\n",
       "</table>\n",
       "</div>"
      ],
      "text/plain": [
       "    User ID  Gender  Age  EstimatedSalary  Purchased\n",
       "0  15624510    Male   19            19000          0\n",
       "1  15810944    Male   35            20000          0\n",
       "2  15668575  Female   26            43000          0\n",
       "3  15603246  Female   27            57000          0\n",
       "4  15804002    Male   19            76000          0\n",
       "5  15728773    Male   27            58000          0\n",
       "6  15598044  Female   27            84000          0\n",
       "7  15694829  Female   32           150000          1\n",
       "8  15600575    Male   25            33000          0\n",
       "9  15727311  Female   35            65000          0"
      ]
     },
     "execution_count": 2,
     "metadata": {},
     "output_type": "execute_result"
    }
   ],
   "source": [
    "data = pd.read_csv('Social_Network_Ads.csv')\n",
    "data.head(10)"
   ]
  },
  {
   "cell_type": "markdown",
   "metadata": {},
   "source": [
    "#### Data Cleaning"
   ]
  },
  {
   "cell_type": "code",
   "execution_count": 3,
   "metadata": {
    "scrolled": true
   },
   "outputs": [
    {
     "name": "stdout",
     "output_type": "stream",
     "text": [
      "<class 'pandas.core.frame.DataFrame'>\n",
      "RangeIndex: 400 entries, 0 to 399\n",
      "Data columns (total 5 columns):\n",
      " #   Column           Non-Null Count  Dtype \n",
      "---  ------           --------------  ----- \n",
      " 0   User ID          400 non-null    int64 \n",
      " 1   Gender           400 non-null    object\n",
      " 2   Age              400 non-null    int64 \n",
      " 3   EstimatedSalary  400 non-null    int64 \n",
      " 4   Purchased        400 non-null    int64 \n",
      "dtypes: int64(4), object(1)\n",
      "memory usage: 15.8+ KB\n"
     ]
    }
   ],
   "source": [
    "data.info()"
   ]
  },
  {
   "cell_type": "code",
   "execution_count": 4,
   "metadata": {},
   "outputs": [
    {
     "name": "stdout",
     "output_type": "stream",
     "text": [
      "     0   1      2  3\n",
      "0    1  19  19000  0\n",
      "1    1  35  20000  0\n",
      "2    0  26  43000  0\n",
      "3    0  27  57000  0\n",
      "4    1  19  76000  0\n",
      "..  ..  ..    ... ..\n",
      "395  0  46  41000  1\n",
      "396  1  51  23000  1\n",
      "397  0  50  20000  1\n",
      "398  1  36  33000  0\n",
      "399  0  49  36000  1\n",
      "\n",
      "[400 rows x 4 columns]\n"
     ]
    }
   ],
   "source": [
    "global df\n",
    "df = data\n",
    "# Replace Female & Male with 0 & 1\n",
    "df['Gender'].replace(['Female', 'Male'], [0,1], inplace=True)\n",
    "# Drop unnessecary columns\n",
    "df = df.drop(['User ID'], axis=1)\n",
    "# Replace NaN values with 0\n",
    "df.replace(float('nan'), 0, inplace=True)\n",
    "\n",
    "# Change columns name into number\n",
    "columnnames = {}\n",
    "count=0\n",
    "for i in df.columns:\n",
    "    columnnames[i] = count\n",
    "    count += 1\n",
    "df.rename(columns = columnnames, inplace = True)\n",
    "print(df)\n"
   ]
  },
  {
   "cell_type": "markdown",
   "metadata": {},
   "source": [
    "## Calling the function that has been created\n",
    "fuzzycmeans(DataFrame,NumbersOfCluster,PowerOf,MaxIteration,TheSmallestExpectedError,InitialObjectiveFunction,InitialIteration)"
   ]
  },
  {
   "cell_type": "markdown",
   "metadata": {},
   "source": [
    "For example:\n",
    "1. NumbersOfCluster = 3\n",
    "2. PowerOf = 2\n",
    "3. MaxIteration = 100\n",
    "4. TheSmallestExpectedError = 0.00001\n",
    "5. InitialObjectiveFunction = 0\n",
    "6. InitialIteration = 1"
   ]
  },
  {
   "cell_type": "code",
   "execution_count": 5,
   "metadata": {},
   "outputs": [],
   "source": [
    "%run fcm.ipynb"
   ]
  },
  {
   "cell_type": "code",
   "execution_count": 6,
   "metadata": {
    "scrolled": false
   },
   "outputs": [
    {
     "name": "stdout",
     "output_type": "stream",
     "text": [
      "Iteration - 1\n",
      "Objective Function: 340467047918.7804| difference: 340467047918.7804\n",
      "Iteration - 2\n",
      "Objective Function: 152032000038.55417| difference: 188435047880.22623\n",
      "Iteration - 3\n",
      "Objective Function: 139624793552.2695| difference: 12407206486.284668\n",
      "Iteration - 4\n",
      "Objective Function: 117450023376.91846| difference: 22174770175.351044\n",
      "Iteration - 5\n",
      "Objective Function: 102974634858.60312| difference: 14475388518.315338\n",
      "Iteration - 6\n",
      "Objective Function: 96615283534.24692| difference: 6359351324.356201\n",
      "Iteration - 7\n",
      "Objective Function: 92975645677.11404| difference: 3639637857.1328735\n",
      "Iteration - 8\n",
      "Objective Function: 88655913800.48354| difference: 4319731876.630508\n",
      "Iteration - 9\n",
      "Objective Function: 76809767121.42508| difference: 11846146679.058456\n",
      "Iteration - 10\n",
      "Objective Function: 59446803684.033936| difference: 17362963437.391144\n",
      "Iteration - 11\n",
      "Objective Function: 50391094312.64819| difference: 9055709371.385742\n",
      "Iteration - 12\n",
      "Objective Function: 47151826886.40565| difference: 3239267426.242546\n",
      "Iteration - 13\n",
      "Objective Function: 45971053481.00637| difference: 1180773405.3992767\n",
      "Iteration - 14\n",
      "Objective Function: 45513859881.55832| difference: 457193599.44805145\n",
      "Iteration - 15\n",
      "Objective Function: 45327847736.4841| difference: 186012145.07421875\n",
      "Iteration - 16\n",
      "Objective Function: 45249820764.55499| difference: 78026971.92910767\n",
      "Iteration - 17\n",
      "Objective Function: 45216577919.89449| difference: 33242844.660499573\n",
      "Iteration - 18\n",
      "Objective Function: 45202315788.23634| difference: 14262131.65814972\n",
      "Iteration - 19\n",
      "Objective Function: 45196179415.81717| difference: 6136372.419174194\n",
      "Iteration - 20\n",
      "Objective Function: 45193536422.00789| difference: 2642993.8092803955\n",
      "Iteration - 21\n",
      "Objective Function: 45192397696.386795| difference: 1138725.62109375\n",
      "Iteration - 22\n",
      "Objective Function: 45191907057.744225| difference: 490638.6425704956\n",
      "Iteration - 23\n",
      "Objective Function: 45191695666.80496| difference: 211390.93926239014\n",
      "Iteration - 24\n",
      "Objective Function: 45191604594.61876| difference: 91072.18620300293\n",
      "Iteration - 25\n",
      "Objective Function: 45191565360.59613| difference: 39234.02262878418\n",
      "Iteration - 26\n",
      "Objective Function: 45191548459.19174| difference: 16901.404388427734\n",
      "Iteration - 27\n",
      "Objective Function: 45191541178.536804| difference: 7280.654937744141\n",
      "Iteration - 28\n",
      "Objective Function: 45191538042.29473| difference: 3136.242073059082\n",
      "Iteration - 29\n",
      "Objective Function: 45191536691.33342| difference: 1350.961311340332\n",
      "Iteration - 30\n",
      "Objective Function: 45191536109.40125| difference: 581.9321670532227\n",
      "Iteration - 31\n",
      "Objective Function: 45191535858.73306| difference: 250.6681900024414\n",
      "Iteration - 32\n",
      "Objective Function: 45191535750.75777| difference: 107.97529602050781\n",
      "Iteration - 33\n",
      "Objective Function: 45191535704.24754| difference: 46.510223388671875\n",
      "Iteration - 34\n",
      "Objective Function: 45191535684.21336| difference: 20.0341796875\n",
      "Iteration - 35\n",
      "Objective Function: 45191535675.58369| difference: 8.629676818847656\n",
      "Iteration - 36\n",
      "Objective Function: 45191535671.86648| difference: 3.7172088623046875\n",
      "Iteration - 37\n",
      "Objective Function: 45191535670.2653| difference: 1.6011810302734375\n",
      "Iteration - 38\n",
      "Objective Function: 45191535669.57559| difference: 0.6897048950195312\n",
      "Iteration - 39\n",
      "Objective Function: 45191535669.27852| difference: 0.2970733642578125\n",
      "Iteration - 40\n",
      "Objective Function: 45191535669.150536| difference: 0.12798309326171875\n",
      "Iteration - 41\n",
      "Objective Function: 45191535669.09541| difference: 0.05512237548828125\n",
      "Iteration - 42\n",
      "Objective Function: 45191535669.07167| difference: 0.02374267578125\n",
      "Iteration - 43\n",
      "Objective Function: 45191535669.06145| difference: 0.010223388671875\n",
      "Iteration - 44\n",
      "Objective Function: 45191535669.05704| difference: 0.0044097900390625\n",
      "Iteration - 45\n",
      "Objective Function: 45191535669.055145| difference: 0.00189208984375\n",
      "Iteration - 46\n",
      "Objective Function: 45191535669.05432| difference: 0.000823974609375\n",
      "Iteration - 47\n",
      "Objective Function: 45191535669.05398| difference: 0.00034332275390625\n",
      "Iteration - 48\n",
      "Objective Function: 45191535669.05382| difference: 0.00016021728515625\n",
      "Iteration - 49\n",
      "Objective Function: 45191535669.05376| difference: 6.103515625e-05\n",
      "Iteration - 50\n",
      "Objective Function: 45191535669.05373| difference: 3.0517578125e-05\n",
      "Iteration - 51\n",
      "Objective Function: 45191535669.05371| difference: 1.52587890625e-05\n",
      "Iteration - 52\n",
      "Objective Function: 45191535669.05372| difference: 7.62939453125e-06\n",
      "\n",
      "\n",
      "\n",
      "Iteration Cluster Center - 52\n",
      "           0          1              2         3\n",
      "0  0.539276  35.845495   75211.334695  0.194012\n",
      "1  0.474458  37.833125   33612.980005  0.346812\n",
      "2  0.378891  42.250706  127941.200528  0.842990\n",
      "\n",
      "\n",
      "\n",
      "            0         1         2  selected clusters  cluster\n",
      "0    0.062255  0.921171  0.016574           0.921171        2\n",
      "1    0.056462  0.928766  0.014772           0.928766        2\n",
      "2    0.077406  0.911462  0.011132           0.911462        2\n",
      "3    0.597991  0.362601  0.039408           0.597991        1\n",
      "4    0.999423  0.000346  0.000231           0.999423        1\n",
      "..        ...       ...       ...                ...      ...\n",
      "395  0.044241  0.948909  0.006850           0.948909        2\n",
      "396  0.039293  0.950980  0.009726           0.950980        2\n",
      "397  0.056462  0.928766  0.014772           0.928766        2\n",
      "398  0.000211  0.999747  0.000042           0.999747        2\n",
      "399  0.003690  0.995639  0.000671           0.995639        2\n",
      "\n",
      "[400 rows x 5 columns] \n",
      "\n",
      "\n",
      "Cluster 1 = Data- [4, 5, 6, 7, 10, 11, 13, 15, 16, 31, 35, 39, 45, 47, 50, 53, 55, 56, 58, 62, 63, 65, 66, 68, 69, 70, 71, 79, 81, 84, 85, 87, 88, 89, 91, 95, 99, 101, 102, 103, 106, 108, 109, 110, 111, 112, 113, 114, 115, 116, 117, 119, 120, 121, 122, 123, 126, 127, 130, 131, 133, 134, 135, 136, 137, 139, 141, 142, 143, 144, 146, 147, 149, 150, 153, 157, 158, 161, 162, 165, 166, 167, 168, 171, 175, 182, 185, 186, 187, 189, 191, 194, 195, 197, 199, 202, 204, 205, 211, 214, 217, 218, 219, 221, 222, 225, 229, 230, 234, 236, 237, 238, 239, 242, 243, 245, 250, 256, 257, 258, 259, 261, 264, 265, 267, 268, 270, 272, 276, 277, 278, 281, 282, 283, 286, 287, 289, 290, 292, 294, 295, 296, 297, 299, 302, 304, 305, 311, 312, 315, 316, 318, 320, 322, 326, 327, 328, 333, 334, 335, 338, 339, 342, 343, 346, 347, 349, 350, 352, 353, 354, 355, 357, 358, 359, 364, 368, 369, 372, 373, 375, 377, 379, 381, 386, 388, 395]\n",
      "Cluster 2 = Data- [1, 2, 3, 9, 12, 14, 17, 18, 19, 20, 21, 22, 23, 24, 25, 26, 27, 28, 29, 30, 33, 34, 36, 37, 38, 40, 41, 42, 44, 46, 48, 51, 52, 54, 57, 59, 61, 67, 72, 73, 75, 77, 78, 80, 82, 83, 90, 93, 94, 96, 97, 100, 105, 107, 118, 124, 125, 128, 129, 132, 140, 145, 148, 151, 152, 154, 155, 156, 159, 163, 164, 170, 174, 176, 177, 178, 179, 180, 181, 184, 188, 190, 192, 193, 196, 198, 200, 201, 206, 210, 213, 215, 226, 232, 247, 249, 251, 252, 255, 273, 275, 279, 280, 284, 293, 301, 306, 310, 313, 319, 323, 324, 331, 336, 344, 356, 360, 362, 363, 366, 367, 370, 371, 376, 378, 380, 382, 384, 385, 387, 389, 390, 391, 392, 393, 394, 396, 397, 398, 399, 400]\n",
      "Cluster 3 = Data- [8, 32, 43, 49, 60, 64, 74, 76, 86, 92, 98, 104, 138, 160, 169, 172, 173, 183, 203, 207, 208, 209, 212, 216, 220, 223, 224, 227, 228, 231, 233, 235, 240, 241, 244, 246, 248, 253, 254, 260, 262, 263, 266, 269, 271, 274, 285, 288, 291, 298, 300, 303, 307, 308, 309, 314, 317, 321, 325, 329, 330, 332, 337, 340, 341, 345, 348, 351, 361, 365, 374, 383]\n",
      "\n",
      "Before Clustering\n",
      "\n"
     ]
    },
    {
     "data": {
      "image/png": "[encoded data removed]",
      "text/plain": [
       "<Figure size 432x288 with 1 Axes>"
      ]
     },
     "metadata": {
      "needs_background": "light"
     },
     "output_type": "display_data"
    },
    {
     "name": "stdout",
     "output_type": "stream",
     "text": [
      "\n",
      "\n",
      "\n",
      "After Clustering\n",
      "\n"
     ]
    },
    {
     "data": {
      "image/png": "[encoded data removed]",
      "text/plain": [
       "<Figure size 432x288 with 1 Axes>"
      ]
     },
     "metadata": {
      "needs_background": "light"
     },
     "output_type": "display_data"
    },
    {
     "name": "stdout",
     "output_type": "stream",
     "text": [
      "\n",
      "Silhouette Coefficient score : 0.6018615999609797\n",
      "Davies Bouldin score: 0.4792195447960708\n"
     ]
    }
   ],
   "source": [
    "fuzzycmeans(df,3,2,100,0.00001,0,1)"
   ]
  }
 ],
 "metadata": {
  "kernelspec": {
   "display_name": "Python 3",
   "language": "python",
   "name": "python3"
  },
  "language_info": {
   "codemirror_mode": {
    "name": "ipython",
    "version": 3
   },
   "file_extension": ".py",
   "mimetype": "text/x-python",
   "name": "python",
   "nbconvert_exporter": "python",
   "pygments_lexer": "ipython3",
   "version": "3.8.3"
  }
 },
 "nbformat": 4,
 "nbformat_minor": 4
}
